{
  "nbformat": 4,
  "nbformat_minor": 0,
  "metadata": {
    "colab": {
      "name": "location_trackker.ipynb",
      "provenance": [],
      "authorship_tag": "ABX9TyMzp6kqy2dzzeflwqUAlMRL",
      "include_colab_link": true
    },
    "kernelspec": {
      "name": "python3",
      "display_name": "Python 3"
    }
  },
  "cells": [
    {
      "cell_type": "markdown",
      "metadata": {
        "id": "view-in-github",
        "colab_type": "text"
      },
      "source": [
        "<a href=\"https://colab.research.google.com/github/dineshssdn-867/Python_collab/blob/main/location_trackker.ipynb\" target=\"_parent\"><img src=\"https://colab.research.google.com/assets/colab-badge.svg\" alt=\"Open In Colab\"/></a>"
      ]
    },
    {
      "cell_type": "code",
      "metadata": {
        "colab": {
          "base_uri": "https://localhost:8080/"
        },
        "id": "ZuWG0PqDGBrq",
        "outputId": "fea19274-84e7-41cb-cccf-facec63f856f"
      },
      "source": [
        "import phonenumbers\r\n",
        "from phonenumbers import geocoder\r\n",
        "from phonenumbers import carrier\r\n",
        "\r\n",
        "number=\"+918200687071\"\r\n",
        "\r\n",
        "ch_number =  phonenumbers.parse(number, \"CH\")\r\n",
        "service_number = phonenumbers.parse(number, \"RO\")\r\n",
        "print(\"The country of this number is \"+geocoder.description_for_number(ch_number, \"en\")+\" and the carrier services are of \"+carrier.name_for_number(service_number, \"en\"))"
      ],
      "execution_count": 11,
      "outputs": [
        {
          "output_type": "stream",
          "text": [
            "The country of this number is India and the carrier services are of Reliance Jio\n"
          ],
          "name": "stdout"
        }
      ]
    },
    {
      "cell_type": "code",
      "metadata": {
        "colab": {
          "base_uri": "https://localhost:8080/"
        },
        "id": "8zuywFuCLL2E",
        "outputId": "819127b4-7894-4f86-b511-88df7930d7b1"
      },
      "source": [
        "import pygeoip\r\n",
        "\r\n",
        "gip = pygeoip.GeoIP(\"GeoLiteCity.dat\")\r\n",
        "res = gip.record_by_addr('161.185.160.93')\r\n",
        "for key, value in res.items():\r\n",
        "  print('%s: %s'%(key,value))"
      ],
      "execution_count": 17,
      "outputs": [
        {
          "output_type": "stream",
          "text": [
            "dma_code: 501\n",
            "area_code: 718\n",
            "metro_code: New York, NY\n",
            "postal_code: 11206\n",
            "country_code: US\n",
            "country_code3: USA\n",
            "country_name: United States\n",
            "continent: NA\n",
            "region_code: NY\n",
            "city: Brooklyn\n",
            "latitude: 40.7021\n",
            "longitude: -73.9423\n",
            "time_zone: America/New_York\n"
          ],
          "name": "stdout"
        }
      ]
    }
  ]
}