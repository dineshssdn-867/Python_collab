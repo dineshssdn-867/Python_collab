{
  "nbformat": 4,
  "nbformat_minor": 0,
  "metadata": {
    "colab": {
      "name": "location_trackker.ipynb",
      "provenance": [],
      "authorship_tag": "ABX9TyPOLzkKUsEIu3YTf69v71n+",
      "include_colab_link": true
    },
    "kernelspec": {
      "name": "python3",
      "display_name": "Python 3"
    }
  },
  "cells": [
    {
      "cell_type": "markdown",
      "metadata": {
        "id": "view-in-github",
        "colab_type": "text"
      },
      "source": [
        "<a href=\"https://colab.research.google.com/github/dineshssdn-867/Python_collab/blob/main/location_trackker.ipynb\" target=\"_parent\"><img src=\"https://colab.research.google.com/assets/colab-badge.svg\" alt=\"Open In Colab\"/></a>"
      ]
    },
    {
      "cell_type": "code",
      "metadata": {
        "id": "ZuWG0PqDGBrq"
      },
      "source": [
        "import phonenumbers\r\n",
        "from phonenumbers import geocoder\r\n",
        "from phonenumbers import carrier\r\n",
        "\r\n",
        "number=\"\" #add the number\r\n",
        "\r\n",
        "ch_number =  phonenumbers.parse(number, \"CH\") #this will parse country name\r\n",
        "service_number = phonenumbers.parse(number, \"RO\") # this will parse the carrier name\r\n",
        "print(\"The country of this number is \"+geocoder.description_for_number(ch_number, \"en\")+\" and the carrier services are of \"+carrier.name_for_number(service_number, \"en\"))"
      ],
      "execution_count": null,
      "outputs": []
    },
    {
      "cell_type": "code",
      "metadata": {
        "id": "8zuywFuCLL2E"
      },
      "source": [
        "import pygeoip\r\n",
        "ip=\"\" # add your ip \r\n",
        "gip = pygeoip.GeoIP(\"GeoLiteCity.dat\") #this will be used to generate the details\r\n",
        "res = gip.record_by_addr(ip) #test you ip\r\n",
        "for key, value in res.items():\r\n",
        "  print('%s: %s'%(key,value))"
      ],
      "execution_count": null,
      "outputs": []
    }
  ]
}