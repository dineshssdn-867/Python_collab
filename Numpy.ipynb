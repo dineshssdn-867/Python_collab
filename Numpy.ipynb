{
  "nbformat": 4,
  "nbformat_minor": 0,
  "metadata": {
    "colab": {
      "name": "Numpy",
      "provenance": [],
      "authorship_tag": "ABX9TyN9I+hZIu6uHHXjBIIoCz0s",
      "include_colab_link": true
    },
    "kernelspec": {
      "name": "python3",
      "display_name": "Python 3"
    },
    "language_info": {
      "name": "python"
    }
  },
  "cells": [
    {
      "cell_type": "markdown",
      "metadata": {
        "id": "view-in-github",
        "colab_type": "text"
      },
      "source": [
        "<a href=\"https://colab.research.google.com/github/dineshssdn-867/Python_collab/blob/main/Numpy.ipynb\" target=\"_parent\"><img src=\"https://colab.research.google.com/assets/colab-badge.svg\" alt=\"Open In Colab\"/></a>"
      ]
    },
    {
      "cell_type": "markdown",
      "metadata": {
        "id": "NHaoCjeTAmS5"
      },
      "source": [
        "# Libraries"
      ]
    },
    {
      "cell_type": "code",
      "metadata": {
        "id": "dUwYDZgT8p9z"
      },
      "source": [
        "import numpy as np\n",
        "import sys"
      ],
      "execution_count": 3,
      "outputs": []
    },
    {
      "cell_type": "markdown",
      "metadata": {
        "id": "-15TIphvuQYg"
      },
      "source": [
        "\n",
        "# Initializing values to numpy array"
      ]
    },
    {
      "cell_type": "code",
      "metadata": {
        "colab": {
          "base_uri": "https://localhost:8080/"
        },
        "id": "PGxPenMkscV3",
        "outputId": "8afb8937-c2f4-4adf-ff4c-f50f9f296a46"
      },
      "source": [
        "a= np.array([1, 5, 6], dtype='int64')\n",
        "print(a)"
      ],
      "execution_count": 47,
      "outputs": [
        {
          "output_type": "stream",
          "text": [
            "[1 5 6]\n"
          ],
          "name": "stdout"
        }
      ]
    },
    {
      "cell_type": "code",
      "metadata": {
        "colab": {
          "base_uri": "https://localhost:8080/"
        },
        "id": "A4qBYt0rt-to",
        "outputId": "19a85572-1bfc-47bb-b499-6eec456dc6a7"
      },
      "source": [
        "b = np.array([[1.0, 2.0], [3.0, 4.0]])\n",
        "print(b)"
      ],
      "execution_count": null,
      "outputs": [
        {
          "output_type": "stream",
          "text": [
            "[[1. 2.]\n",
            " [3. 4.]]\n"
          ],
          "name": "stdout"
        }
      ]
    },
    {
      "cell_type": "markdown",
      "metadata": {
        "id": "64cKHqEOug80"
      },
      "source": [
        "# Getting the Sizes of array"
      ]
    },
    {
      "cell_type": "code",
      "metadata": {
        "colab": {
          "base_uri": "https://localhost:8080/"
        },
        "id": "aSnhsESbufAt",
        "outputId": "1c7164d1-2b3d-41e2-e401-1e5f3f2cea4c"
      },
      "source": [
        "print(\"Dimension of a is \"+str(a.ndim))"
      ],
      "execution_count": 50,
      "outputs": [
        {
          "output_type": "stream",
          "text": [
            "Dimension of a is 4\n"
          ],
          "name": "stdout"
        }
      ]
    },
    {
      "cell_type": "code",
      "metadata": {
        "colab": {
          "base_uri": "https://localhost:8080/"
        },
        "id": "98GLFzQ6vf9t",
        "outputId": "29dc5ed1-e982-4f27-f4a7-4f6cbca00f66"
      },
      "source": [
        "print(\"Shape of a is \"+str(a.shape))"
      ],
      "execution_count": 56,
      "outputs": [
        {
          "output_type": "stream",
          "text": [
            "Shape of a is (2, 6)\n"
          ],
          "name": "stdout"
        }
      ]
    },
    {
      "cell_type": "code",
      "metadata": {
        "colab": {
          "base_uri": "https://localhost:8080/"
        },
        "id": "hzsDy9cMygBC",
        "outputId": "6b3cbc6f-5f6d-44ed-81ce-4d81d6e57127"
      },
      "source": [
        "print(a.dtype)"
      ],
      "execution_count": 8,
      "outputs": [
        {
          "output_type": "stream",
          "text": [
            "int16\n"
          ],
          "name": "stdout"
        }
      ]
    },
    {
      "cell_type": "code",
      "metadata": {
        "colab": {
          "base_uri": "https://localhost:8080/"
        },
        "id": "ovYF4hnZ0S3w",
        "outputId": "e385bfde-9aee-491e-f48a-9e455e9d5814"
      },
      "source": [
        "a.itemsize"
      ],
      "execution_count": 11,
      "outputs": [
        {
          "output_type": "execute_result",
          "data": {
            "text/plain": [
              "8"
            ]
          },
          "metadata": {
            "tags": []
          },
          "execution_count": 11
        }
      ]
    },
    {
      "cell_type": "code",
      "metadata": {
        "colab": {
          "base_uri": "https://localhost:8080/"
        },
        "id": "b4BEBbew0xm3",
        "outputId": "e37238c4-8f7b-4f6c-c8e3-d388d38b4445"
      },
      "source": [
        "a.nbytes"
      ],
      "execution_count": 13,
      "outputs": [
        {
          "output_type": "execute_result",
          "data": {
            "text/plain": [
              "24"
            ]
          },
          "metadata": {
            "tags": []
          },
          "execution_count": 13
        }
      ]
    },
    {
      "cell_type": "code",
      "metadata": {
        "id": "LAlpo7E-17EZ"
      },
      "source": [
        "a= np.array([[1, 2, 3, 4, 5, 6,],[7, 8, 9, 10, 11, 12]], dtype='int64')"
      ],
      "execution_count": 55,
      "outputs": []
    },
    {
      "cell_type": "code",
      "metadata": {
        "colab": {
          "base_uri": "https://localhost:8080/"
        },
        "id": "2F3d1B7i2XU9",
        "outputId": "9257abf1-f168-4886-aadf-b58436878def"
      },
      "source": [
        "a.shape"
      ],
      "execution_count": 15,
      "outputs": [
        {
          "output_type": "execute_result",
          "data": {
            "text/plain": [
              "(2, 6)"
            ]
          },
          "metadata": {
            "tags": []
          },
          "execution_count": 15
        }
      ]
    },
    {
      "cell_type": "code",
      "metadata": {
        "colab": {
          "base_uri": "https://localhost:8080/"
        },
        "id": "7neeTgsb2aAr",
        "outputId": "ae7daaca-42e4-4297-bd0f-dc3567f3b493"
      },
      "source": [
        "a[0,2]"
      ],
      "execution_count": 17,
      "outputs": [
        {
          "output_type": "execute_result",
          "data": {
            "text/plain": [
              "3"
            ]
          },
          "metadata": {
            "tags": []
          },
          "execution_count": 17
        }
      ]
    },
    {
      "cell_type": "code",
      "metadata": {
        "colab": {
          "base_uri": "https://localhost:8080/"
        },
        "id": "Aayrse412y2q",
        "outputId": "c091124b-3cbe-4dcf-c4a3-a06e96a0915a"
      },
      "source": [
        "a[0]"
      ],
      "execution_count": 18,
      "outputs": [
        {
          "output_type": "execute_result",
          "data": {
            "text/plain": [
              "array([1, 2, 3, 4, 5, 6])"
            ]
          },
          "metadata": {
            "tags": []
          },
          "execution_count": 18
        }
      ]
    },
    {
      "cell_type": "code",
      "metadata": {
        "colab": {
          "base_uri": "https://localhost:8080/"
        },
        "id": "Tmnbib_027Cq",
        "outputId": "6d42848b-e529-42c6-d28e-cc02a76f6a11"
      },
      "source": [
        "a[:,0]"
      ],
      "execution_count": 19,
      "outputs": [
        {
          "output_type": "execute_result",
          "data": {
            "text/plain": [
              "array([1, 7])"
            ]
          },
          "metadata": {
            "tags": []
          },
          "execution_count": 19
        }
      ]
    },
    {
      "cell_type": "code",
      "metadata": {
        "colab": {
          "base_uri": "https://localhost:8080/"
        },
        "id": "MWGJ9lw028p_",
        "outputId": "74306cb5-f11d-4c79-9e94-2ad03317f0b0"
      },
      "source": [
        "a[:2,:6]"
      ],
      "execution_count": 22,
      "outputs": [
        {
          "output_type": "execute_result",
          "data": {
            "text/plain": [
              "array([[ 1,  2,  3,  4,  5,  6],\n",
              "       [ 7,  8,  9, 10, 11, 12]])"
            ]
          },
          "metadata": {
            "tags": []
          },
          "execution_count": 22
        }
      ]
    },
    {
      "cell_type": "code",
      "metadata": {
        "colab": {
          "base_uri": "https://localhost:8080/"
        },
        "id": "yaGHH7yZ3g6Y",
        "outputId": "8eb2309b-26d8-4580-9742-bfd59535067c"
      },
      "source": [
        "a[0, 1:6:2]"
      ],
      "execution_count": 23,
      "outputs": [
        {
          "output_type": "execute_result",
          "data": {
            "text/plain": [
              "array([2, 4, 6])"
            ]
          },
          "metadata": {
            "tags": []
          },
          "execution_count": 23
        }
      ]
    },
    {
      "cell_type": "code",
      "metadata": {
        "id": "G_-CJRrM3t_9"
      },
      "source": [
        "a[1:5]=9"
      ],
      "execution_count": 24,
      "outputs": []
    },
    {
      "cell_type": "code",
      "metadata": {
        "colab": {
          "base_uri": "https://localhost:8080/"
        },
        "id": "jQam3p8f4Cm5",
        "outputId": "b26dd073-74a6-47f9-afc2-7bd14d0b6aa9"
      },
      "source": [
        "a"
      ],
      "execution_count": 25,
      "outputs": [
        {
          "output_type": "execute_result",
          "data": {
            "text/plain": [
              "array([[1, 2, 3, 4, 5, 6],\n",
              "       [9, 9, 9, 9, 9, 9]])"
            ]
          },
          "metadata": {
            "tags": []
          },
          "execution_count": 25
        }
      ]
    },
    {
      "cell_type": "code",
      "metadata": {
        "colab": {
          "base_uri": "https://localhost:8080/"
        },
        "id": "PBuJUNcF4Dho",
        "outputId": "d8444eb4-ef3b-4915-9ac0-c688ab1ffe3d"
      },
      "source": [
        "b=np.array([[[1,2],[1,3]], [[4,5], [7,9]]])\n",
        "print(b)"
      ],
      "execution_count": 30,
      "outputs": [
        {
          "output_type": "stream",
          "text": [
            "[[[1 2]\n",
            "  [1 3]]\n",
            "\n",
            " [[4 5]\n",
            "  [7 9]]]\n"
          ],
          "name": "stdout"
        }
      ]
    },
    {
      "cell_type": "code",
      "metadata": {
        "colab": {
          "base_uri": "https://localhost:8080/"
        },
        "id": "fC0bwyWl5L1z",
        "outputId": "3a23264e-75ca-4275-de9a-9398e8c7e0b5"
      },
      "source": [
        "b[0,1,1]\n",
        "b[:,1,:]"
      ],
      "execution_count": 34,
      "outputs": [
        {
          "output_type": "execute_result",
          "data": {
            "text/plain": [
              "array([[1, 3],\n",
              "       [7, 9]])"
            ]
          },
          "metadata": {
            "tags": []
          },
          "execution_count": 34
        }
      ]
    },
    {
      "cell_type": "markdown",
      "metadata": {
        "id": "IgMK4SCn6kI3"
      },
      "source": [
        "# Intialize zeroes and ones array"
      ]
    },
    {
      "cell_type": "code",
      "metadata": {
        "colab": {
          "base_uri": "https://localhost:8080/"
        },
        "id": "iR7HQtuo6qFe",
        "outputId": "3bfcf630-293f-4cae-ad2c-1658ca761cb7"
      },
      "source": [
        "a = np.zeros([6,6])\n",
        "a"
      ],
      "execution_count": 40,
      "outputs": [
        {
          "output_type": "execute_result",
          "data": {
            "text/plain": [
              "array([[0., 0., 0., 0., 0., 0.],\n",
              "       [0., 0., 0., 0., 0., 0.],\n",
              "       [0., 0., 0., 0., 0., 0.],\n",
              "       [0., 0., 0., 0., 0., 0.],\n",
              "       [0., 0., 0., 0., 0., 0.],\n",
              "       [0., 0., 0., 0., 0., 0.]])"
            ]
          },
          "metadata": {
            "tags": []
          },
          "execution_count": 40
        }
      ]
    },
    {
      "cell_type": "code",
      "metadata": {
        "colab": {
          "base_uri": "https://localhost:8080/"
        },
        "id": "T-7XMbAu7E6Q",
        "outputId": "be2c96c3-9fa7-4b53-95eb-da7e9999bc3a"
      },
      "source": [
        "a = np.ones([10,6,6,6])\n",
        "a.size"
      ],
      "execution_count": 53,
      "outputs": [
        {
          "output_type": "execute_result",
          "data": {
            "text/plain": [
              "2160"
            ]
          },
          "metadata": {
            "tags": []
          },
          "execution_count": 53
        }
      ]
    },
    {
      "cell_type": "code",
      "metadata": {
        "colab": {
          "base_uri": "https://localhost:8080/"
        },
        "id": "vUtNb41c-TLx",
        "outputId": "373d96b5-8341-436d-917b-5730bf4b585a"
      },
      "source": [
        "np.full_like(a.shape,4)"
      ],
      "execution_count": 58,
      "outputs": [
        {
          "output_type": "execute_result",
          "data": {
            "text/plain": [
              "array([4, 4])"
            ]
          },
          "metadata": {
            "tags": []
          },
          "execution_count": 58
        }
      ]
    },
    {
      "cell_type": "code",
      "metadata": {
        "colab": {
          "base_uri": "https://localhost:8080/"
        },
        "id": "V_dJ2JWqANcB",
        "outputId": "358e2ba8-955e-403f-98c3-beaedda2da08"
      },
      "source": [
        "np.random.rand(2,4,8)"
      ],
      "execution_count": 62,
      "outputs": [
        {
          "output_type": "execute_result",
          "data": {
            "text/plain": [
              "array([[[0.99523839, 0.82731964, 0.33196508, 0.28445611, 0.61176011,\n",
              "         0.27381038, 0.38792586, 0.34187439],\n",
              "        [0.88748582, 0.4152835 , 0.10483995, 0.84548194, 0.53174018,\n",
              "         0.56276714, 0.05314431, 0.74508151],\n",
              "        [0.65848806, 0.43743314, 0.36314997, 0.73194161, 0.36547129,\n",
              "         0.82390323, 0.6662788 , 0.96564212],\n",
              "        [0.8891684 , 0.88693071, 0.2719308 , 0.79430328, 0.18116511,\n",
              "         0.5416001 , 0.05126635, 0.51869951]],\n",
              "\n",
              "       [[0.10764576, 0.96275043, 0.6755349 , 0.62809524, 0.75973345,\n",
              "         0.22544295, 0.91672631, 0.01831314],\n",
              "        [0.46564702, 0.62389186, 0.36812104, 0.00711355, 0.28836497,\n",
              "         0.36107708, 0.52343754, 0.26516881],\n",
              "        [0.47841731, 0.66047098, 0.90606016, 0.10270215, 0.82142625,\n",
              "         0.28107944, 0.990297  , 0.21271657],\n",
              "        [0.7312784 , 0.62799801, 0.94539559, 0.30153136, 0.91294768,\n",
              "         0.06417447, 0.58683509, 0.69402665]]])"
            ]
          },
          "metadata": {
            "tags": []
          },
          "execution_count": 62
        }
      ]
    },
    {
      "cell_type": "code",
      "metadata": {
        "colab": {
          "base_uri": "https://localhost:8080/"
        },
        "id": "kQjPlkToCB2e",
        "outputId": "99f776e6-abd8-4d1a-a2b9-e78bdc033ce4"
      },
      "source": [
        "np.random.random_sample(a.shape)"
      ],
      "execution_count": 67,
      "outputs": [
        {
          "output_type": "execute_result",
          "data": {
            "text/plain": [
              "array([[0.21071525, 0.27712609, 0.7161812 , 0.11945397, 0.92031186,\n",
              "        0.59252069],\n",
              "       [0.82238427, 0.82487144, 0.91655323, 0.116066  , 0.37629315,\n",
              "        0.76774097]])"
            ]
          },
          "metadata": {
            "tags": []
          },
          "execution_count": 67
        }
      ]
    },
    {
      "cell_type": "code",
      "metadata": {
        "colab": {
          "base_uri": "https://localhost:8080/"
        },
        "id": "_bxKJOHLChxm",
        "outputId": "96640da1-1649-445d-f5f4-689f010f29ef"
      },
      "source": [
        "np.random.randint(7, size=(1,4))"
      ],
      "execution_count": 70,
      "outputs": [
        {
          "output_type": "execute_result",
          "data": {
            "text/plain": [
              "array([[4, 4, 1, 4]])"
            ]
          },
          "metadata": {
            "tags": []
          },
          "execution_count": 70
        }
      ]
    },
    {
      "cell_type": "code",
      "metadata": {
        "colab": {
          "base_uri": "https://localhost:8080/"
        },
        "id": "K1vVF2iEC7Z7",
        "outputId": "5b9d964b-c763-49b5-a04b-34f6d10730c1"
      },
      "source": [
        "np.identity(8, dtype=\"int8\")"
      ],
      "execution_count": 72,
      "outputs": [
        {
          "output_type": "execute_result",
          "data": {
            "text/plain": [
              "array([[1, 0, 0, 0, 0, 0, 0, 0],\n",
              "       [0, 1, 0, 0, 0, 0, 0, 0],\n",
              "       [0, 0, 1, 0, 0, 0, 0, 0],\n",
              "       [0, 0, 0, 1, 0, 0, 0, 0],\n",
              "       [0, 0, 0, 0, 1, 0, 0, 0],\n",
              "       [0, 0, 0, 0, 0, 1, 0, 0],\n",
              "       [0, 0, 0, 0, 0, 0, 1, 0],\n",
              "       [0, 0, 0, 0, 0, 0, 0, 1]], dtype=int8)"
            ]
          },
          "metadata": {
            "tags": []
          },
          "execution_count": 72
        }
      ]
    },
    {
      "cell_type": "code",
      "metadata": {
        "colab": {
          "base_uri": "https://localhost:8080/"
        },
        "id": "bzhTZm8HC9ke",
        "outputId": "8788465a-9cb9-4d73-e389-9fb53be483fa"
      },
      "source": [
        "arr = np.array([1,2,3])\n",
        "r1 = np.repeat(arr, 3)\n",
        "print(r1)"
      ],
      "execution_count": 75,
      "outputs": [
        {
          "output_type": "stream",
          "text": [
            "[1 1 1 2 2 2 3 3 3]\n"
          ],
          "name": "stdout"
        }
      ]
    },
    {
      "cell_type": "code",
      "metadata": {
        "colab": {
          "base_uri": "https://localhost:8080/"
        },
        "id": "vEBYr2qwEyma",
        "outputId": "0d372e09-73c4-496e-a0b6-de9a9d28a17a"
      },
      "source": [
        "n = int(input(\"Please enter only odd Number: \"))\n",
        "mid=int((n-1)/2)\n",
        "print(mid)\n",
        "a = np.zeros((n,n), dtype='int16')\n",
        "a[0,:]=1\n",
        "a[:,0]=1\n",
        "a[n-1,:]=1\n",
        "a[mid,mid]=9\n",
        "a[:,n-1]=1\n",
        "a"
      ],
      "execution_count": 109,
      "outputs": [
        {
          "output_type": "stream",
          "text": [
            "Please enter only odd Number: 9\n",
            "4\n"
          ],
          "name": "stdout"
        },
        {
          "output_type": "execute_result",
          "data": {
            "text/plain": [
              "array([[1, 1, 1, 1, 1, 1, 1, 1, 1],\n",
              "       [1, 0, 0, 0, 0, 0, 0, 0, 1],\n",
              "       [1, 0, 0, 0, 0, 0, 0, 0, 1],\n",
              "       [1, 0, 0, 0, 0, 0, 0, 0, 1],\n",
              "       [1, 0, 0, 0, 9, 0, 0, 0, 1],\n",
              "       [1, 0, 0, 0, 0, 0, 0, 0, 1],\n",
              "       [1, 0, 0, 0, 0, 0, 0, 0, 1],\n",
              "       [1, 0, 0, 0, 0, 0, 0, 0, 1],\n",
              "       [1, 1, 1, 1, 1, 1, 1, 1, 1]], dtype=int16)"
            ]
          },
          "metadata": {
            "tags": []
          },
          "execution_count": 109
        }
      ]
    },
    {
      "cell_type": "code",
      "metadata": {
        "id": "cw-1vC75LlZy"
      },
      "source": [
        "# For a lot more (https://docs.scipy.org/doc/numpy/reference/routines.math.html)"
      ],
      "execution_count": null,
      "outputs": []
    },
    {
      "cell_type": "markdown",
      "metadata": {
        "id": "aqIoXhYiKNQz"
      },
      "source": [
        "# Linear Algebra"
      ]
    },
    {
      "cell_type": "code",
      "metadata": {
        "colab": {
          "base_uri": "https://localhost:8080/"
        },
        "id": "sS3SLIafKPz5",
        "outputId": "47653ea5-ae15-4c3d-c5e4-757bfa00a969"
      },
      "source": [
        "a = np.full((2,3),9)\n",
        "a\n",
        "b = np.full((3,2), 2)\n",
        "c = np.matmul(a,b)\n",
        "c"
      ],
      "execution_count": 104,
      "outputs": [
        {
          "output_type": "execute_result",
          "data": {
            "text/plain": [
              "array([[54, 54],\n",
              "       [54, 54]])"
            ]
          },
          "metadata": {
            "tags": []
          },
          "execution_count": 104
        }
      ]
    },
    {
      "cell_type": "code",
      "metadata": {
        "colab": {
          "base_uri": "https://localhost:8080/"
        },
        "id": "Ae7v3HAoK62l",
        "outputId": "2bfd50f1-21f7-493b-a747-acb178273918"
      },
      "source": [
        "c = np.identity(3)\n",
        "c = np.linalg.det(c)\n",
        "c"
      ],
      "execution_count": 108,
      "outputs": [
        {
          "output_type": "execute_result",
          "data": {
            "text/plain": [
              "1.0"
            ]
          },
          "metadata": {
            "tags": []
          },
          "execution_count": 108
        }
      ]
    },
    {
      "cell_type": "code",
      "metadata": {
        "id": "TSk8FzZTLIbv"
      },
      "source": [
        ""
      ],
      "execution_count": null,
      "outputs": []
    },
    {
      "cell_type": "code",
      "metadata": {
        "id": "dApbPieELnah"
      },
      "source": [
        "\n",
        "## Reference docs (https://docs.scipy.org/doc/numpy/reference/routines.linalg.html)\n",
        "\n",
        "# Determinant\n",
        "# Trace\n",
        "# Singular Vector Decomposition\n",
        "# Eigenvalues\n",
        "# Matrix Norm\n",
        "# Inverse\n",
        "# Etc..."
      ],
      "execution_count": null,
      "outputs": []
    },
    {
      "cell_type": "markdown",
      "metadata": {
        "id": "HijWQZpaL428"
      },
      "source": [
        "# Reorganize array"
      ]
    },
    {
      "cell_type": "code",
      "metadata": {
        "id": "tE3Fvs9tL7qK"
      },
      "source": [
        "before = np.array([[1,2,3,4],[5,6,7,8]])\n",
        "print(before)\n",
        "\n",
        "after = before.reshape((2,3))\n",
        "print(after)\n",
        "\n",
        "\n",
        "# Vertically stacking vectors\n",
        "v1 = np.array([1,2,3,4])\n",
        "v2 = np.array([5,6,7,8])\n",
        "\n",
        "np.vstack([v1,v2,v1,v2])\n",
        "\n",
        "\n",
        "# Horizontal  stack\n",
        "h1 = np.ones((2,4))\n",
        "h2 = np.zeros((2,2))\n",
        "\n",
        "np.hstack((h1,h2))\n"
      ],
      "execution_count": null,
      "outputs": []
    },
    {
      "cell_type": "markdown",
      "metadata": {
        "id": "7TZw1wkpMONZ"
      },
      "source": [
        "# Miscellaneous"
      ]
    },
    {
      "cell_type": "code",
      "metadata": {
        "id": "cnpwRI39MQqv"
      },
      "source": [
        "filedata = np.genfromtxt('data.txt', delimiter=',')\n",
        "filedata = filedata.astype('int32')\n",
        "print(filedata)\n",
        "(~((filedata > 50) & (filedata < 100)))"
      ],
      "execution_count": null,
      "outputs": []
    }
  ]
}