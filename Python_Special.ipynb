{
  "nbformat": 4,
  "nbformat_minor": 0,
  "metadata": {
    "colab": {
      "name": "Python_Special.ipynb",
      "provenance": [],
      "authorship_tag": "ABX9TyOkibFGzRJdf+moL4ETsD4u",
      "include_colab_link": true
    },
    "kernelspec": {
      "name": "python3",
      "display_name": "Python 3"
    },
    "language_info": {
      "name": "python"
    }
  },
  "cells": [
    {
      "cell_type": "markdown",
      "metadata": {
        "id": "view-in-github",
        "colab_type": "text"
      },
      "source": [
        "<a href=\"https://colab.research.google.com/github/dineshssdn-867/Python_collab/blob/main/Python_Special.ipynb\" target=\"_parent\"><img src=\"https://colab.research.google.com/assets/colab-badge.svg\" alt=\"Open In Colab\"/></a>"
      ]
    },
    {
      "cell_type": "code",
      "metadata": {
        "id": "KLHw0nkoSKlp"
      },
      "source": [
        "from collections import Counter, namedtuple, OrderedDict, defaultdict, deque"
      ],
      "execution_count": 2,
      "outputs": []
    },
    {
      "cell_type": "markdown",
      "metadata": {
        "id": "5xqTdZYAd4DP"
      },
      "source": [
        "# Containers"
      ]
    },
    {
      "cell_type": "code",
      "metadata": {
        "colab": {
          "base_uri": "https://localhost:8080/"
        },
        "id": "La2Ar06eTCda",
        "outputId": "5f7f9ad5-0821-4c01-aecf-c4be02082030"
      },
      "source": [
        "## Counter \n",
        "a = \"aaaabbbccccc\"\n",
        "my_counter = Counter(a)\n",
        "print(my_counter)\n",
        "print(my_counter.items())\n",
        "print(my_counter.keys())\n",
        "print(my_counter.values())\n",
        "print(my_counter.most_common(1))\n",
        "print(list(my_counter.elements()))"
      ],
      "execution_count": 12,
      "outputs": [
        {
          "output_type": "stream",
          "text": [
            "Counter({'c': 5, 'a': 4, 'b': 3})\n",
            "dict_items([('a', 4), ('b', 3), ('c', 5)])\n",
            "dict_keys(['a', 'b', 'c'])\n",
            "dict_values([4, 3, 5])\n",
            "[('c', 5)]\n",
            "['a', 'a', 'a', 'a', 'b', 'b', 'b', 'c', 'c', 'c', 'c', 'c']\n"
          ],
          "name": "stdout"
        }
      ]
    },
    {
      "cell_type": "code",
      "metadata": {
        "colab": {
          "base_uri": "https://localhost:8080/"
        },
        "id": "iVT4hoxhVWKq",
        "outputId": "de16c71e-e3bf-4de8-ed2a-525d775265e7"
      },
      "source": [
        "## NamedTuple\n",
        "Point = namedtuple('Point', 'x,y')\n",
        "pt = Point(1, -4)\n",
        "print(pt)"
      ],
      "execution_count": 13,
      "outputs": [
        {
          "output_type": "stream",
          "text": [
            "Point(x=1, y=-4)\n"
          ],
          "name": "stdout"
        }
      ]
    },
    {
      "cell_type": "code",
      "metadata": {
        "colab": {
          "base_uri": "https://localhost:8080/"
        },
        "id": "LJfDTGEFYcoH",
        "outputId": "9dece17a-1d30-47cb-f6bf-563b8b637dfe"
      },
      "source": [
        "## OrderedDict\n",
        "ordered_dict = OrderedDict()\n",
        "ordered_dict['a']=1\n",
        "ordered_dict['b']=2\n",
        "ordered_dict['c']=3\n",
        "ordered_dict['d']=4\n",
        "print(ordered_dict)"
      ],
      "execution_count": 15,
      "outputs": [
        {
          "output_type": "stream",
          "text": [
            "OrderedDict([('a', 1), ('b', 2), ('c', 3), ('d', 4)])\n"
          ],
          "name": "stdout"
        }
      ]
    },
    {
      "cell_type": "code",
      "metadata": {
        "colab": {
          "base_uri": "https://localhost:8080/"
        },
        "id": "sxSmZy0SZs9O",
        "outputId": "d07492c3-9f92-406e-c59d-2fdae7cdd267"
      },
      "source": [
        "## defaultdict\n",
        "d = defaultdict(int)\n",
        "d['a'] = 1\n",
        "d['b'] = 2\n",
        "d['c'] = 3\n",
        "d['d'] = 4\n",
        "print(d)"
      ],
      "execution_count": 17,
      "outputs": [
        {
          "output_type": "stream",
          "text": [
            "defaultdict(<class 'int'>, {'a': 1, 'b': 2, 'c': 3, 'd': 4})\n"
          ],
          "name": "stdout"
        }
      ]
    },
    {
      "cell_type": "code",
      "metadata": {
        "colab": {
          "base_uri": "https://localhost:8080/"
        },
        "id": "HwnZ-0fkbChp",
        "outputId": "6f93457e-ec22-42c7-c458-41cb1a31760f"
      },
      "source": [
        "  ## deque\n",
        "  d = deque()\n",
        "  d.append(4)\n",
        "  d.append(5)\n",
        "  d.append(6)\n",
        "  print(d)\n",
        "  d.appendleft(3)\n",
        "  d.appendleft(2)\n",
        "  d.appendleft(1)\n",
        "  print(d)\n",
        "  d.pop()\n",
        "  d.pop()\n",
        "  d.pop()\n",
        "  print(d)\n",
        "  d.popleft()\n",
        "  d.popleft()\n",
        "  print(d)\n",
        "  d.clear()\n",
        "  print(d)"
      ],
      "execution_count": 24,
      "outputs": [
        {
          "output_type": "stream",
          "text": [
            "deque([4, 5, 6])\n",
            "deque([1, 2, 3, 4, 5, 6])\n",
            "deque([1, 2, 3])\n",
            "deque([3])\n",
            "deque([])\n"
          ],
          "name": "stdout"
        }
      ]
    },
    {
      "cell_type": "code",
      "metadata": {
        "id": "0lSCgIUGcvsw"
      },
      "source": [
        ""
      ],
      "execution_count": null,
      "outputs": []
    }
  ]
}